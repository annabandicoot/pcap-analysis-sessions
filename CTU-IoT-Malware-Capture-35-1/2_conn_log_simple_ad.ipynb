{
 "cells": [
  {
   "cell_type": "markdown",
   "metadata": {},
   "source": [
    "## Simple anomaly detection in conn.log with Local Outlier Factor\n",
    "Date: 15.3.2019"
   ]
  },
  {
   "cell_type": "code",
   "execution_count": 110,
   "metadata": {},
   "outputs": [],
   "source": [
    "%matplotlib inline\n",
    "import matplotlib.pyplot as plt\n",
    "\n",
    "import pandas as pd\n",
    "from pyod.models.lof import LOF"
   ]
  },
  {
   "cell_type": "markdown",
   "metadata": {},
   "source": [
    "## 1. Load data"
   ]
  },
  {
   "cell_type": "code",
   "execution_count": 20,
   "metadata": {},
   "outputs": [
    {
     "name": "stderr",
     "output_type": "stream",
     "text": [
      "/Users/alperovich/miniconda3/envs/aaic/lib/python3.6/site-packages/IPython/core/interactiveshell.py:3044: DtypeWarning: Columns (1) have mixed types. Specify dtype option on import or set low_memory=False.\n",
      "  interactivity=interactivity, compiler=compiler, result=result)\n"
     ]
    }
   ],
   "source": [
    "features = pd.read_csv('conn_log_features.csv')"
   ]
  },
  {
   "cell_type": "code",
   "execution_count": 21,
   "metadata": {},
   "outputs": [
    {
     "data": {
      "text/html": [
       "<div>\n",
       "<style scoped>\n",
       "    .dataframe tbody tr th:only-of-type {\n",
       "        vertical-align: middle;\n",
       "    }\n",
       "\n",
       "    .dataframe tbody tr th {\n",
       "        vertical-align: top;\n",
       "    }\n",
       "\n",
       "    .dataframe thead th {\n",
       "        text-align: right;\n",
       "    }\n",
       "</style>\n",
       "<table border=\"1\" class=\"dataframe\">\n",
       "  <thead>\n",
       "    <tr style=\"text-align: right;\">\n",
       "      <th></th>\n",
       "      <th>Unnamed: 0</th>\n",
       "      <th>ts</th>\n",
       "      <th>id.orig_h</th>\n",
       "      <th>id.orig_p</th>\n",
       "      <th>id.resp_h</th>\n",
       "      <th>id.resp_p</th>\n",
       "      <th>proto</th>\n",
       "      <th>conn_state</th>\n",
       "      <th>orig_bytes</th>\n",
       "      <th>orig_bytes_num</th>\n",
       "      <th>tick</th>\n",
       "    </tr>\n",
       "  </thead>\n",
       "  <tbody>\n",
       "    <tr>\n",
       "      <th>0</th>\n",
       "      <td>0</td>\n",
       "      <td>1.5454e+09</td>\n",
       "      <td>192.168.1.196</td>\n",
       "      <td>59932.0</td>\n",
       "      <td>104.248.160.24</td>\n",
       "      <td>80.0</td>\n",
       "      <td>tcp</td>\n",
       "      <td>S0</td>\n",
       "      <td>0</td>\n",
       "      <td>0</td>\n",
       "      <td>1</td>\n",
       "    </tr>\n",
       "    <tr>\n",
       "      <th>1</th>\n",
       "      <td>1</td>\n",
       "      <td>1.5454e+09</td>\n",
       "      <td>192.168.1.196</td>\n",
       "      <td>59932.0</td>\n",
       "      <td>104.248.160.24</td>\n",
       "      <td>80.0</td>\n",
       "      <td>tcp</td>\n",
       "      <td>S0</td>\n",
       "      <td>0</td>\n",
       "      <td>0</td>\n",
       "      <td>1</td>\n",
       "    </tr>\n",
       "    <tr>\n",
       "      <th>2</th>\n",
       "      <td>2</td>\n",
       "      <td>1.5454e+09</td>\n",
       "      <td>192.168.1.196</td>\n",
       "      <td>35883.0</td>\n",
       "      <td>192.168.1.1</td>\n",
       "      <td>53.0</td>\n",
       "      <td>udp</td>\n",
       "      <td>S0</td>\n",
       "      <td>78</td>\n",
       "      <td>78</td>\n",
       "      <td>1</td>\n",
       "    </tr>\n",
       "    <tr>\n",
       "      <th>3</th>\n",
       "      <td>3</td>\n",
       "      <td>1.5454e+09</td>\n",
       "      <td>192.168.1.196</td>\n",
       "      <td>43531.0</td>\n",
       "      <td>192.168.1.1</td>\n",
       "      <td>53.0</td>\n",
       "      <td>udp</td>\n",
       "      <td>S0</td>\n",
       "      <td>78</td>\n",
       "      <td>78</td>\n",
       "      <td>1</td>\n",
       "    </tr>\n",
       "    <tr>\n",
       "      <th>4</th>\n",
       "      <td>4</td>\n",
       "      <td>1.5454e+09</td>\n",
       "      <td>192.168.1.196</td>\n",
       "      <td>59932.0</td>\n",
       "      <td>104.248.160.24</td>\n",
       "      <td>80.0</td>\n",
       "      <td>tcp</td>\n",
       "      <td>S0</td>\n",
       "      <td>0</td>\n",
       "      <td>0</td>\n",
       "      <td>1</td>\n",
       "    </tr>\n",
       "  </tbody>\n",
       "</table>\n",
       "</div>"
      ],
      "text/plain": [
       "   Unnamed: 0          ts      id.orig_h  id.orig_p       id.resp_h  \\\n",
       "0           0  1.5454e+09  192.168.1.196    59932.0  104.248.160.24   \n",
       "1           1  1.5454e+09  192.168.1.196    59932.0  104.248.160.24   \n",
       "2           2  1.5454e+09  192.168.1.196    35883.0     192.168.1.1   \n",
       "3           3  1.5454e+09  192.168.1.196    43531.0     192.168.1.1   \n",
       "4           4  1.5454e+09  192.168.1.196    59932.0  104.248.160.24   \n",
       "\n",
       "   id.resp_p proto conn_state  orig_bytes  orig_bytes_num  tick  \n",
       "0       80.0   tcp         S0           0               0     1  \n",
       "1       80.0   tcp         S0           0               0     1  \n",
       "2       53.0   udp         S0          78              78     1  \n",
       "3       53.0   udp         S0          78              78     1  \n",
       "4       80.0   tcp         S0           0               0     1  "
      ]
     },
     "execution_count": 21,
     "metadata": {},
     "output_type": "execute_result"
    }
   ],
   "source": [
    "features.head()"
   ]
  },
  {
   "cell_type": "markdown",
   "metadata": {},
   "source": [
    "Let's consider only connections from an interested IP address"
   ]
  },
  {
   "cell_type": "code",
   "execution_count": 22,
   "metadata": {},
   "outputs": [],
   "source": [
    "infected_ip = '192.168.1.196'"
   ]
  },
  {
   "cell_type": "code",
   "execution_count": 23,
   "metadata": {},
   "outputs": [],
   "source": [
    "features = features[features['id.orig_h'] == infected_ip] "
   ]
  },
  {
   "cell_type": "markdown",
   "metadata": {},
   "source": [
    "## 2. Create a simple frequency feature\n",
    "\n",
    "Sum of requests per 5 seconds"
   ]
  },
  {
   "cell_type": "code",
   "execution_count": 24,
   "metadata": {},
   "outputs": [],
   "source": [
    "def get_sample_group_by_s(time_df, num_s=5, num_sample=5000, func=sum):\n",
    "    pd_offset_freq = f\"{num_s}S\"\n",
    "    group_df = time_df.groupby(pd.TimeGrouper(pd_offset_freq))\n",
    "    freq_feature = group_df['num'].apply(func)\n",
    "    if num_sample:\n",
    "        freq_feature_sample = freq_feature.sample(num_sample).sort_index()\n",
    "    else:\n",
    "        freq_feature_sample = freq_feature.sort_index()\n",
    "    return freq_feature_sample"
   ]
  },
  {
   "cell_type": "code",
   "execution_count": 8,
   "metadata": {},
   "outputs": [],
   "source": [
    "time_index = features['ts'][:-1]\n",
    "time_index = pd.to_datetime(time_index, unit='s')\n",
    "time_df = pd.DataFrame({'num': [1] * len(time_index)}, index=time_index)"
   ]
  },
  {
   "cell_type": "code",
   "execution_count": 9,
   "metadata": {},
   "outputs": [
    {
     "name": "stderr",
     "output_type": "stream",
     "text": [
      "/Users/alperovich/miniconda3/envs/aaic/lib/python3.6/site-packages/ipykernel_launcher.py:3: FutureWarning: pd.TimeGrouper is deprecated and will be removed; Please use pd.Grouper(freq=...)\n",
      "  This is separate from the ipykernel package so we can avoid doing imports until\n"
     ]
    }
   ],
   "source": [
    "freq_feature_sample = get_sample_group_by_s(time_df, num_s=5, num_sample=1000, func=sum)"
   ]
  },
  {
   "cell_type": "code",
   "execution_count": 12,
   "metadata": {},
   "outputs": [
    {
     "data": {
      "text/plain": [
       "<matplotlib.axes._subplots.AxesSubplot at 0x1a22e67a90>"
      ]
     },
     "execution_count": 12,
     "metadata": {},
     "output_type": "execute_result"
    },
    {
     "data": {
      "image/png": "[encoded data removed]",
      "text/plain": [
       "<Figure size 432x288 with 1 Axes>"
      ]
     },
     "metadata": {
      "needs_background": "light"
     },
     "output_type": "display_data"
    }
   ],
   "source": [
    "freq_feature_sample.plot.line()"
   ]
  },
  {
   "cell_type": "code",
   "execution_count": 15,
   "metadata": {},
   "outputs": [
    {
     "data": {
      "text/plain": [
       "<matplotlib.axes._subplots.AxesSubplot at 0x1a23011ef0>"
      ]
     },
     "execution_count": 15,
     "metadata": {},
     "output_type": "execute_result"
    },
    {
     "data": {
      "image/png": "[encoded data removed]",
      "text/plain": [
       "<Figure size 432x288 with 1 Axes>"
      ]
     },
     "metadata": {
      "needs_background": "light"
     },
     "output_type": "display_data"
    }
   ],
   "source": [
    "freq_feature_sample[:50].plot.line()"
   ]
  },
  {
   "cell_type": "markdown",
   "metadata": {},
   "source": [
    "## Apply simple anomaly detector (LOF)"
   ]
  },
  {
   "cell_type": "code",
   "execution_count": 27,
   "metadata": {},
   "outputs": [],
   "source": [
    "def get_anomaly_score(past_data, current_point, clf):\n",
    "    clf.fit(past_data)\n",
    "    y_pred = clf.predict(current_point)[0]  # outlier labels (0 or 1)\n",
    "    y_score = clf.decision_function(current_point)[0]  # outlier scores\n",
    "    return y_pred, y_score\n",
    "\n",
    "def get_model_result(data: pd.DataFrame, clf, min_window=50, include_all_past=False):\n",
    "    \"\"\"\n",
    "    Return y_preds, y_scores for a clf and data\n",
    "    :param data: pd.DataFrame with features\n",
    "    :param clf: classifier\n",
    "    :param min_window: rolling window size. If None - then full past history will be used.\n",
    "    :param include_all_past: if True, history [0, i + window] will be used for training. If False, then [i, i + window]\n",
    "    :return: tuple of lists, y_preds, y_scores\n",
    "    \"\"\"\n",
    "    data.reset_index(drop=True, inplace=True)\n",
    "    n = len(data)\n",
    "    columns = [col for col in data.columns if col not in ['y_pred', 'y_score']]\n",
    "    y_preds = (min_window + 1) * [0]\n",
    "    y_scores = (min_window + 1) * [0]\n",
    "    for i in range(n - min_window - 1):\n",
    "        if include_all_past:\n",
    "            start_i = 0\n",
    "        else:\n",
    "            start_i = i\n",
    "        past_data = data[columns].loc[start_i:i + min_window, :]\n",
    "        next_i = i + min_window + 1\n",
    "        current_point = data[columns].loc[next_i, :].values.reshape(1, -1)\n",
    "        y_pred, y_score = get_anomaly_score(past_data, current_point, clf)\n",
    "        y_preds.append(y_pred)\n",
    "        y_scores.append(y_score)\n",
    "    return y_preds, y_scores"
   ]
  },
  {
   "cell_type": "code",
   "execution_count": 81,
   "metadata": {},
   "outputs": [],
   "source": [
    "outliers_fraction = 0.01\n",
    "clf = LOF(n_neighbors=35, contamination=outliers_fraction)\n",
    "clf_name = 'LOF'"
   ]
  },
  {
   "cell_type": "code",
   "execution_count": 82,
   "metadata": {},
   "outputs": [],
   "source": [
    "data = pd.DataFrame(freq_feature_sample)"
   ]
  },
  {
   "cell_type": "code",
   "execution_count": 83,
   "metadata": {},
   "outputs": [],
   "source": [
    "RESULT_TAIL = {'y_true': freq_feature_sample}\n",
    "RESULT_ROLLING = {'y_true': freq_feature_sample}"
   ]
  },
  {
   "cell_type": "markdown",
   "metadata": {},
   "source": [
    "## 1st strategy: Use all previous history for training, analyse the next value"
   ]
  },
  {
   "cell_type": "code",
   "execution_count": 84,
   "metadata": {},
   "outputs": [],
   "source": [
    "y_preds, y_scores = get_model_result(data, clf, min_window=50, include_all_past=True)\n",
    "y_pred_key = f'{clf_name}_y_pred'\n",
    "y_score_key = f'{clf_name}_y_score'\n",
    "RESULT_TAIL[y_pred_key] = y_preds\n",
    "RESULT_TAIL[y_score_key] = y_scores"
   ]
  },
  {
   "cell_type": "markdown",
   "metadata": {},
   "source": [
    "## 2nd strategy: Rolling window, use only it for training, analyse the next value"
   ]
  },
  {
   "cell_type": "code",
   "execution_count": 85,
   "metadata": {},
   "outputs": [],
   "source": [
    "y_preds, y_scores = get_model_result(data, clf, min_window=50, include_all_past=False)\n",
    "y_pred_key = f'{clf_name}_y_pred'\n",
    "y_score_key = f'{clf_name}_y_score'\n",
    "RESULT_ROLLING[y_pred_key] = y_preds\n",
    "RESULT_ROLLING[y_score_key] = y_scores"
   ]
  },
  {
   "cell_type": "code",
   "execution_count": 86,
   "metadata": {},
   "outputs": [],
   "source": [
    "RESULT_DF_TAIL = pd.DataFrame(RESULT_TAIL)\n",
    "RESULT_DF_TAIL.to_csv('result_ad_tailcsv')\n",
    "RESULT_DF_ROLL = pd.DataFrame(RESULT_ROLLING)\n",
    "RESULT_DF_ROLL.to_csv('result_ad_roll.csv')"
   ]
  },
  {
   "cell_type": "markdown",
   "metadata": {},
   "source": [
    "## 1st strategy results"
   ]
  },
  {
   "cell_type": "code",
   "execution_count": 87,
   "metadata": {},
   "outputs": [
    {
     "data": {
      "text/html": [
       "<div>\n",
       "<style scoped>\n",
       "    .dataframe tbody tr th:only-of-type {\n",
       "        vertical-align: middle;\n",
       "    }\n",
       "\n",
       "    .dataframe tbody tr th {\n",
       "        vertical-align: top;\n",
       "    }\n",
       "\n",
       "    .dataframe thead th {\n",
       "        text-align: right;\n",
       "    }\n",
       "</style>\n",
       "<table border=\"1\" class=\"dataframe\">\n",
       "  <thead>\n",
       "    <tr style=\"text-align: right;\">\n",
       "      <th></th>\n",
       "      <th>y_true</th>\n",
       "      <th>LOF_y_pred</th>\n",
       "      <th>LOF_y_score</th>\n",
       "    </tr>\n",
       "    <tr>\n",
       "      <th>ts</th>\n",
       "      <th></th>\n",
       "      <th></th>\n",
       "      <th></th>\n",
       "    </tr>\n",
       "  </thead>\n",
       "  <tbody>\n",
       "    <tr>\n",
       "      <th>2018-12-21 14:35:00</th>\n",
       "      <td>0</td>\n",
       "      <td>0</td>\n",
       "      <td>0.0</td>\n",
       "    </tr>\n",
       "    <tr>\n",
       "      <th>2018-12-21 14:36:05</th>\n",
       "      <td>1</td>\n",
       "      <td>0</td>\n",
       "      <td>0.0</td>\n",
       "    </tr>\n",
       "    <tr>\n",
       "      <th>2018-12-21 14:36:35</th>\n",
       "      <td>2</td>\n",
       "      <td>0</td>\n",
       "      <td>0.0</td>\n",
       "    </tr>\n",
       "    <tr>\n",
       "      <th>2018-12-21 14:37:10</th>\n",
       "      <td>0</td>\n",
       "      <td>0</td>\n",
       "      <td>0.0</td>\n",
       "    </tr>\n",
       "    <tr>\n",
       "      <th>2018-12-21 14:40:05</th>\n",
       "      <td>2</td>\n",
       "      <td>0</td>\n",
       "      <td>0.0</td>\n",
       "    </tr>\n",
       "  </tbody>\n",
       "</table>\n",
       "</div>"
      ],
      "text/plain": [
       "                     y_true  LOF_y_pred  LOF_y_score\n",
       "ts                                                  \n",
       "2018-12-21 14:35:00       0           0          0.0\n",
       "2018-12-21 14:36:05       1           0          0.0\n",
       "2018-12-21 14:36:35       2           0          0.0\n",
       "2018-12-21 14:37:10       0           0          0.0\n",
       "2018-12-21 14:40:05       2           0          0.0"
      ]
     },
     "execution_count": 87,
     "metadata": {},
     "output_type": "execute_result"
    }
   ],
   "source": [
    "RESULT_DF_TAIL.head()"
   ]
  },
  {
   "cell_type": "markdown",
   "metadata": {},
   "source": [
    "**LOF scores explained:**\n",
    "\n",
    "score ~ 1 means Similar density as neighbors, <br>\n",
    "score < 1 means Higher density than neighbors (Inlier), <br>\n",
    "score > 1 means Lower density than neighbors (Outlier) <br>"
   ]
  },
  {
   "cell_type": "code",
   "execution_count": 88,
   "metadata": {},
   "outputs": [
    {
     "data": {
      "text/plain": [
       "<matplotlib.axes._subplots.AxesSubplot at 0x1a290e46d8>"
      ]
     },
     "execution_count": 88,
     "metadata": {},
     "output_type": "execute_result"
    },
    {
     "data": {
      "image/png": "[encoded data removed]",
      "text/plain": [
       "<Figure size 432x288 with 1 Axes>"
      ]
     },
     "metadata": {
      "needs_background": "light"
     },
     "output_type": "display_data"
    }
   ],
   "source": [
    "RESULT_DF_TAIL.LOF_y_score[:500].plot.line()"
   ]
  },
  {
   "cell_type": "code",
   "execution_count": 89,
   "metadata": {},
   "outputs": [
    {
     "data": {
      "text/plain": [
       "<matplotlib.axes._subplots.AxesSubplot at 0x1a295c59e8>"
      ]
     },
     "execution_count": 89,
     "metadata": {},
     "output_type": "execute_result"
    },
    {
     "data": {
      "image/png": "[encoded data removed]",
      "text/plain": [
       "<Figure size 432x288 with 1 Axes>"
      ]
     },
     "metadata": {
      "needs_background": "light"
     },
     "output_type": "display_data"
    }
   ],
   "source": [
    "RESULT_DF_TAIL.LOF_y_score.plot.line()"
   ]
  },
  {
   "cell_type": "code",
   "execution_count": 90,
   "metadata": {},
   "outputs": [
    {
     "data": {
      "text/plain": [
       "(9, 3)"
      ]
     },
     "execution_count": 90,
     "metadata": {},
     "output_type": "execute_result"
    }
   ],
   "source": [
    "# outliers \n",
    "\n",
    "RESULT_DF_TAIL.query('LOF_y_pred == 1').shape"
   ]
  },
  {
   "cell_type": "code",
   "execution_count": 108,
   "metadata": {},
   "outputs": [],
   "source": [
    "outliers = RESULT_DF_TAIL.query('LOF_y_pred == 1')\n",
    "outliers_ts = list(outliers.index)"
   ]
  },
  {
   "cell_type": "code",
   "execution_count": 109,
   "metadata": {},
   "outputs": [
    {
     "data": {
      "text/html": [
       "<div>\n",
       "<style scoped>\n",
       "    .dataframe tbody tr th:only-of-type {\n",
       "        vertical-align: middle;\n",
       "    }\n",
       "\n",
       "    .dataframe tbody tr th {\n",
       "        vertical-align: top;\n",
       "    }\n",
       "\n",
       "    .dataframe thead th {\n",
       "        text-align: right;\n",
       "    }\n",
       "</style>\n",
       "<table border=\"1\" class=\"dataframe\">\n",
       "  <thead>\n",
       "    <tr style=\"text-align: right;\">\n",
       "      <th></th>\n",
       "      <th>y_true</th>\n",
       "      <th>LOF_y_pred</th>\n",
       "      <th>LOF_y_score</th>\n",
       "    </tr>\n",
       "    <tr>\n",
       "      <th>ts</th>\n",
       "      <th></th>\n",
       "      <th></th>\n",
       "      <th></th>\n",
       "    </tr>\n",
       "  </thead>\n",
       "  <tbody>\n",
       "    <tr>\n",
       "      <th>2018-12-21 16:50:30</th>\n",
       "      <td>504</td>\n",
       "      <td>1</td>\n",
       "      <td>2.552598</td>\n",
       "    </tr>\n",
       "    <tr>\n",
       "      <th>2018-12-21 20:35:50</th>\n",
       "      <td>744</td>\n",
       "      <td>1</td>\n",
       "      <td>1.969461</td>\n",
       "    </tr>\n",
       "    <tr>\n",
       "      <th>2018-12-22 04:09:00</th>\n",
       "      <td>755</td>\n",
       "      <td>1</td>\n",
       "      <td>2.456557</td>\n",
       "    </tr>\n",
       "    <tr>\n",
       "      <th>2018-12-22 04:10:20</th>\n",
       "      <td>44657</td>\n",
       "      <td>1</td>\n",
       "      <td>4196.312468</td>\n",
       "    </tr>\n",
       "    <tr>\n",
       "      <th>2018-12-22 04:10:35</th>\n",
       "      <td>32788</td>\n",
       "      <td>1</td>\n",
       "      <td>2952.725939</td>\n",
       "    </tr>\n",
       "    <tr>\n",
       "      <th>2018-12-22 04:10:45</th>\n",
       "      <td>42914</td>\n",
       "      <td>1</td>\n",
       "      <td>3639.070736</td>\n",
       "    </tr>\n",
       "    <tr>\n",
       "      <th>2018-12-22 10:06:35</th>\n",
       "      <td>49302</td>\n",
       "      <td>1</td>\n",
       "      <td>4259.066448</td>\n",
       "    </tr>\n",
       "    <tr>\n",
       "      <th>2018-12-22 10:07:20</th>\n",
       "      <td>42117</td>\n",
       "      <td>1</td>\n",
       "      <td>3473.888346</td>\n",
       "    </tr>\n",
       "    <tr>\n",
       "      <th>2018-12-22 10:07:35</th>\n",
       "      <td>40749</td>\n",
       "      <td>1</td>\n",
       "      <td>3168.531511</td>\n",
       "    </tr>\n",
       "  </tbody>\n",
       "</table>\n",
       "</div>"
      ],
      "text/plain": [
       "                     y_true  LOF_y_pred  LOF_y_score\n",
       "ts                                                  \n",
       "2018-12-21 16:50:30     504           1     2.552598\n",
       "2018-12-21 20:35:50     744           1     1.969461\n",
       "2018-12-22 04:09:00     755           1     2.456557\n",
       "2018-12-22 04:10:20   44657           1  4196.312468\n",
       "2018-12-22 04:10:35   32788           1  2952.725939\n",
       "2018-12-22 04:10:45   42914           1  3639.070736\n",
       "2018-12-22 10:06:35   49302           1  4259.066448\n",
       "2018-12-22 10:07:20   42117           1  3473.888346\n",
       "2018-12-22 10:07:35   40749           1  3168.531511"
      ]
     },
     "execution_count": 109,
     "metadata": {},
     "output_type": "execute_result"
    }
   ],
   "source": [
    "outliers"
   ]
  },
  {
   "cell_type": "code",
   "execution_count": 96,
   "metadata": {},
   "outputs": [
    {
     "data": {
      "image/png": "[encoded data removed]",
      "text/plain": [
       "<Figure size 432x288 with 1 Axes>"
      ]
     },
     "metadata": {
      "needs_background": "light"
     },
     "output_type": "display_data"
    }
   ],
   "source": [
    "ax = RESULT_DF_TAIL.y_true.plot.line()\n",
    "\n",
    "for out_ts in outliers_ts:\n",
    "    ax.axvline(out_ts, color='r', linestyle='--', lw=0.5)"
   ]
  },
  {
   "cell_type": "markdown",
   "metadata": {},
   "source": [
    "## 2nd strategy results"
   ]
  },
  {
   "cell_type": "code",
   "execution_count": 104,
   "metadata": {},
   "outputs": [],
   "source": [
    "outliers = RESULT_DF_ROLL.query('LOF_y_pred == 1')\n",
    "outliers_ts = list(outliers.index)"
   ]
  },
  {
   "cell_type": "code",
   "execution_count": 105,
   "metadata": {},
   "outputs": [
    {
     "data": {
      "text/plain": [
       "(17, 3)"
      ]
     },
     "execution_count": 105,
     "metadata": {},
     "output_type": "execute_result"
    }
   ],
   "source": [
    "outliers.shape"
   ]
  },
  {
   "cell_type": "code",
   "execution_count": 107,
   "metadata": {},
   "outputs": [
    {
     "data": {
      "text/html": [
       "<div>\n",
       "<style scoped>\n",
       "    .dataframe tbody tr th:only-of-type {\n",
       "        vertical-align: middle;\n",
       "    }\n",
       "\n",
       "    .dataframe tbody tr th {\n",
       "        vertical-align: top;\n",
       "    }\n",
       "\n",
       "    .dataframe thead th {\n",
       "        text-align: right;\n",
       "    }\n",
       "</style>\n",
       "<table border=\"1\" class=\"dataframe\">\n",
       "  <thead>\n",
       "    <tr style=\"text-align: right;\">\n",
       "      <th></th>\n",
       "      <th>y_true</th>\n",
       "      <th>LOF_y_pred</th>\n",
       "      <th>LOF_y_score</th>\n",
       "    </tr>\n",
       "    <tr>\n",
       "      <th>ts</th>\n",
       "      <th></th>\n",
       "      <th></th>\n",
       "      <th></th>\n",
       "    </tr>\n",
       "  </thead>\n",
       "  <tbody>\n",
       "    <tr>\n",
       "      <th>2018-12-21 16:30:10</th>\n",
       "      <td>49</td>\n",
       "      <td>1</td>\n",
       "      <td>1.396735</td>\n",
       "    </tr>\n",
       "    <tr>\n",
       "      <th>2018-12-21 18:50:50</th>\n",
       "      <td>57</td>\n",
       "      <td>1</td>\n",
       "      <td>2.553367</td>\n",
       "    </tr>\n",
       "    <tr>\n",
       "      <th>2018-12-21 21:15:50</th>\n",
       "      <td>27</td>\n",
       "      <td>1</td>\n",
       "      <td>1.100774</td>\n",
       "    </tr>\n",
       "    <tr>\n",
       "      <th>2018-12-21 21:16:05</th>\n",
       "      <td>13</td>\n",
       "      <td>1</td>\n",
       "      <td>1.113443</td>\n",
       "    </tr>\n",
       "    <tr>\n",
       "      <th>2018-12-22 03:50:15</th>\n",
       "      <td>54</td>\n",
       "      <td>1</td>\n",
       "      <td>6.134690</td>\n",
       "    </tr>\n",
       "    <tr>\n",
       "      <th>2018-12-22 04:10:20</th>\n",
       "      <td>44657</td>\n",
       "      <td>1</td>\n",
       "      <td>565.112984</td>\n",
       "    </tr>\n",
       "    <tr>\n",
       "      <th>2018-12-22 04:10:35</th>\n",
       "      <td>32788</td>\n",
       "      <td>1</td>\n",
       "      <td>383.371595</td>\n",
       "    </tr>\n",
       "    <tr>\n",
       "      <th>2018-12-22 04:10:45</th>\n",
       "      <td>42914</td>\n",
       "      <td>1</td>\n",
       "      <td>433.896518</td>\n",
       "    </tr>\n",
       "    <tr>\n",
       "      <th>2018-12-22 07:30:45</th>\n",
       "      <td>87</td>\n",
       "      <td>1</td>\n",
       "      <td>1.116388</td>\n",
       "    </tr>\n",
       "    <tr>\n",
       "      <th>2018-12-22 07:31:45</th>\n",
       "      <td>38</td>\n",
       "      <td>1</td>\n",
       "      <td>1.154437</td>\n",
       "    </tr>\n",
       "    <tr>\n",
       "      <th>2018-12-22 10:06:35</th>\n",
       "      <td>49302</td>\n",
       "      <td>1</td>\n",
       "      <td>167.678147</td>\n",
       "    </tr>\n",
       "    <tr>\n",
       "      <th>2018-12-22 10:07:20</th>\n",
       "      <td>42117</td>\n",
       "      <td>1</td>\n",
       "      <td>135.794880</td>\n",
       "    </tr>\n",
       "    <tr>\n",
       "      <th>2018-12-22 11:47:45</th>\n",
       "      <td>44</td>\n",
       "      <td>1</td>\n",
       "      <td>1.664011</td>\n",
       "    </tr>\n",
       "    <tr>\n",
       "      <th>2018-12-22 12:08:50</th>\n",
       "      <td>46</td>\n",
       "      <td>1</td>\n",
       "      <td>1.687993</td>\n",
       "    </tr>\n",
       "    <tr>\n",
       "      <th>2018-12-22 12:09:20</th>\n",
       "      <td>21</td>\n",
       "      <td>1</td>\n",
       "      <td>1.577032</td>\n",
       "    </tr>\n",
       "    <tr>\n",
       "      <th>2018-12-22 13:21:55</th>\n",
       "      <td>57</td>\n",
       "      <td>1</td>\n",
       "      <td>1.061525</td>\n",
       "    </tr>\n",
       "    <tr>\n",
       "      <th>2018-12-22 14:12:50</th>\n",
       "      <td>49</td>\n",
       "      <td>1</td>\n",
       "      <td>1.128857</td>\n",
       "    </tr>\n",
       "  </tbody>\n",
       "</table>\n",
       "</div>"
      ],
      "text/plain": [
       "                     y_true  LOF_y_pred  LOF_y_score\n",
       "ts                                                  \n",
       "2018-12-21 16:30:10      49           1     1.396735\n",
       "2018-12-21 18:50:50      57           1     2.553367\n",
       "2018-12-21 21:15:50      27           1     1.100774\n",
       "2018-12-21 21:16:05      13           1     1.113443\n",
       "2018-12-22 03:50:15      54           1     6.134690\n",
       "2018-12-22 04:10:20   44657           1   565.112984\n",
       "2018-12-22 04:10:35   32788           1   383.371595\n",
       "2018-12-22 04:10:45   42914           1   433.896518\n",
       "2018-12-22 07:30:45      87           1     1.116388\n",
       "2018-12-22 07:31:45      38           1     1.154437\n",
       "2018-12-22 10:06:35   49302           1   167.678147\n",
       "2018-12-22 10:07:20   42117           1   135.794880\n",
       "2018-12-22 11:47:45      44           1     1.664011\n",
       "2018-12-22 12:08:50      46           1     1.687993\n",
       "2018-12-22 12:09:20      21           1     1.577032\n",
       "2018-12-22 13:21:55      57           1     1.061525\n",
       "2018-12-22 14:12:50      49           1     1.128857"
      ]
     },
     "execution_count": 107,
     "metadata": {},
     "output_type": "execute_result"
    }
   ],
   "source": [
    "outliers"
   ]
  },
  {
   "cell_type": "markdown",
   "metadata": {},
   "source": [
    "We see much more outliers found (less information to train)"
   ]
  },
  {
   "cell_type": "code",
   "execution_count": 102,
   "metadata": {},
   "outputs": [
    {
     "data": {
      "image/png": "[encoded data removed]",
      "text/plain": [
       "<Figure size 432x288 with 1 Axes>"
      ]
     },
     "metadata": {
      "needs_background": "light"
     },
     "output_type": "display_data"
    }
   ],
   "source": [
    "ax = RESULT_DF_ROLL.y_true.plot.line()\n",
    "\n",
    "for out_ts in outliers_ts:\n",
    "    ax.axvline(out_ts, color='r', linestyle='--', lw=0.5)"
   ]
  },
  {
   "cell_type": "markdown",
   "metadata": {},
   "source": [
    "## Conclusion:\n",
    "\n",
    "1. We used one simple feature: the number of connections during 5 seconds\n",
    "2. We used LOF algorithm for anomaly detection\n",
    "3. We looked at 2 strategies to predict anomaly:\n",
    "   * Look every time at the whole history back -> then predict next\n",
    "   * Rolling window -> then predict next\n",
    "4. 2nd approach predicts more outliers that the 1st one because it has less historical data to learn from\n",
    "5. 1st approach found 9 outliers at the contamination level 0.01 (which is used for thresholding)"
   ]
  },
  {
   "cell_type": "code",
   "execution_count": null,
   "metadata": {},
   "outputs": [],
   "source": []
  }
 ],
 "metadata": {
  "kernelspec": {
   "display_name": "Python 3",
   "language": "python",
   "name": "python3"
  },
  "language_info": {
   "codemirror_mode": {
    "name": "ipython",
    "version": 3
   },
   "file_extension": ".py",
   "mimetype": "text/x-python",
   "name": "python",
   "nbconvert_exporter": "python",
   "pygments_lexer": "ipython3",
   "version": "3.6.8"
  }
 },
 "nbformat": 4,
 "nbformat_minor": 2
}
