{
 "cells": [
  {
   "cell_type": "code",
   "execution_count": 105,
   "metadata": {},
   "outputs": [],
   "source": [
    "%matplotlib inline\n",
    "import pandas as pd\n",
    "import numpy as np"
   ]
  },
  {
   "cell_type": "code",
   "execution_count": 5,
   "metadata": {},
   "outputs": [],
   "source": [
    "conn = pd.read_csv('conn_1.log', sep='\\t')"
   ]
  },
  {
   "cell_type": "code",
   "execution_count": 6,
   "metadata": {},
   "outputs": [],
   "source": [
    "conn.columns = [\n",
    "    \"ts\", \"uid\", \"id.orig_h\", \"id.orig_p\", \"id.resp_h\", \n",
    "    \"id.resp_p\", \"proto\", \"service\", \"duration\", \"orig_bytes\", \n",
    "    \"resp_bytes\", \"conn_state\", \"local_orig\", \"local_resp\", \n",
    "    \"missed_bytes\", \"history\", \"orig_pkts\", \"orig_ip_bytes\", \n",
    "    \"resp_pkts\", \"resp_ip_bytes\", \"tunnel_parents\"\n",
    "]"
   ]
  },
  {
   "cell_type": "code",
   "execution_count": 7,
   "metadata": {},
   "outputs": [
    {
     "data": {
      "text/html": [
       "<div>\n",
       "<style scoped>\n",
       "    .dataframe tbody tr th:only-of-type {\n",
       "        vertical-align: middle;\n",
       "    }\n",
       "\n",
       "    .dataframe tbody tr th {\n",
       "        vertical-align: top;\n",
       "    }\n",
       "\n",
       "    .dataframe thead th {\n",
       "        text-align: right;\n",
       "    }\n",
       "</style>\n",
       "<table border=\"1\" class=\"dataframe\">\n",
       "  <thead>\n",
       "    <tr style=\"text-align: right;\">\n",
       "      <th></th>\n",
       "      <th>ts</th>\n",
       "      <th>uid</th>\n",
       "      <th>id.orig_h</th>\n",
       "      <th>id.orig_p</th>\n",
       "      <th>id.resp_h</th>\n",
       "      <th>id.resp_p</th>\n",
       "      <th>proto</th>\n",
       "      <th>service</th>\n",
       "      <th>duration</th>\n",
       "      <th>orig_bytes</th>\n",
       "      <th>...</th>\n",
       "      <th>conn_state</th>\n",
       "      <th>local_orig</th>\n",
       "      <th>local_resp</th>\n",
       "      <th>missed_bytes</th>\n",
       "      <th>history</th>\n",
       "      <th>orig_pkts</th>\n",
       "      <th>orig_ip_bytes</th>\n",
       "      <th>resp_pkts</th>\n",
       "      <th>resp_ip_bytes</th>\n",
       "      <th>tunnel_parents</th>\n",
       "    </tr>\n",
       "  </thead>\n",
       "  <tbody>\n",
       "    <tr>\n",
       "      <th>0</th>\n",
       "      <td>1.55138e+09</td>\n",
       "      <td>C5t6Kp1UnQyH7JCC45</td>\n",
       "      <td>192.168.1.193</td>\n",
       "      <td>51360.0</td>\n",
       "      <td>134.209.72.171</td>\n",
       "      <td>80.0</td>\n",
       "      <td>tcp</td>\n",
       "      <td>http</td>\n",
       "      <td>1.87149</td>\n",
       "      <td>151</td>\n",
       "      <td>...</td>\n",
       "      <td>SF</td>\n",
       "      <td>-</td>\n",
       "      <td>-</td>\n",
       "      <td>0.0</td>\n",
       "      <td>ShADadttfF</td>\n",
       "      <td>282.0</td>\n",
       "      <td>15702.0</td>\n",
       "      <td>282.0</td>\n",
       "      <td>412612.0</td>\n",
       "      <td>-</td>\n",
       "    </tr>\n",
       "    <tr>\n",
       "      <th>1</th>\n",
       "      <td>1.55138e+09</td>\n",
       "      <td>CRdXqi4p3HG1obs6xl</td>\n",
       "      <td>192.168.1.193</td>\n",
       "      <td>51362.0</td>\n",
       "      <td>134.209.72.171</td>\n",
       "      <td>80.0</td>\n",
       "      <td>tcp</td>\n",
       "      <td>http</td>\n",
       "      <td>2.37637</td>\n",
       "      <td>148</td>\n",
       "      <td>...</td>\n",
       "      <td>SF</td>\n",
       "      <td>-</td>\n",
       "      <td>-</td>\n",
       "      <td>0.0</td>\n",
       "      <td>ShADadttfF</td>\n",
       "      <td>174.0</td>\n",
       "      <td>9600.0</td>\n",
       "      <td>201.0</td>\n",
       "      <td>291562.0</td>\n",
       "      <td>-</td>\n",
       "    </tr>\n",
       "    <tr>\n",
       "      <th>2</th>\n",
       "      <td>1.55138e+09</td>\n",
       "      <td>Co7Sfi3KfjPoJwW5Kf</td>\n",
       "      <td>192.168.1.193</td>\n",
       "      <td>51364.0</td>\n",
       "      <td>134.209.72.171</td>\n",
       "      <td>80.0</td>\n",
       "      <td>tcp</td>\n",
       "      <td>-</td>\n",
       "      <td>3.09254</td>\n",
       "      <td>0</td>\n",
       "      <td>...</td>\n",
       "      <td>S0</td>\n",
       "      <td>-</td>\n",
       "      <td>-</td>\n",
       "      <td>0.0</td>\n",
       "      <td>S</td>\n",
       "      <td>6.0</td>\n",
       "      <td>360.0</td>\n",
       "      <td>0.0</td>\n",
       "      <td>0.0</td>\n",
       "      <td>-</td>\n",
       "    </tr>\n",
       "    <tr>\n",
       "      <th>3</th>\n",
       "      <td>1.55138e+09</td>\n",
       "      <td>CKaKqD34bwvqLUcID9</td>\n",
       "      <td>192.168.1.193</td>\n",
       "      <td>51364.0</td>\n",
       "      <td>134.209.72.171</td>\n",
       "      <td>80.0</td>\n",
       "      <td>tcp</td>\n",
       "      <td>http</td>\n",
       "      <td>1.35978</td>\n",
       "      <td>148</td>\n",
       "      <td>...</td>\n",
       "      <td>SF</td>\n",
       "      <td>-</td>\n",
       "      <td>-</td>\n",
       "      <td>0.0</td>\n",
       "      <td>ShADadttfF</td>\n",
       "      <td>178.0</td>\n",
       "      <td>9840.0</td>\n",
       "      <td>196.0</td>\n",
       "      <td>284806.0</td>\n",
       "      <td>-</td>\n",
       "    </tr>\n",
       "    <tr>\n",
       "      <th>4</th>\n",
       "      <td>1.55138e+09</td>\n",
       "      <td>CFk7Y1SrQmKfgTlp2</td>\n",
       "      <td>192.168.1.193</td>\n",
       "      <td>51366.0</td>\n",
       "      <td>134.209.72.171</td>\n",
       "      <td>80.0</td>\n",
       "      <td>tcp</td>\n",
       "      <td>http</td>\n",
       "      <td>1.95281</td>\n",
       "      <td>151</td>\n",
       "      <td>...</td>\n",
       "      <td>SF</td>\n",
       "      <td>-</td>\n",
       "      <td>-</td>\n",
       "      <td>0.0</td>\n",
       "      <td>ShADadtftF</td>\n",
       "      <td>220.0</td>\n",
       "      <td>11878.0</td>\n",
       "      <td>296.0</td>\n",
       "      <td>434528.0</td>\n",
       "      <td>-</td>\n",
       "    </tr>\n",
       "  </tbody>\n",
       "</table>\n",
       "<p>5 rows × 21 columns</p>\n",
       "</div>"
      ],
      "text/plain": [
       "            ts                 uid      id.orig_h  id.orig_p       id.resp_h  \\\n",
       "0  1.55138e+09  C5t6Kp1UnQyH7JCC45  192.168.1.193    51360.0  134.209.72.171   \n",
       "1  1.55138e+09  CRdXqi4p3HG1obs6xl  192.168.1.193    51362.0  134.209.72.171   \n",
       "2  1.55138e+09  Co7Sfi3KfjPoJwW5Kf  192.168.1.193    51364.0  134.209.72.171   \n",
       "3  1.55138e+09  CKaKqD34bwvqLUcID9  192.168.1.193    51364.0  134.209.72.171   \n",
       "4  1.55138e+09   CFk7Y1SrQmKfgTlp2  192.168.1.193    51366.0  134.209.72.171   \n",
       "\n",
       "   id.resp_p proto service duration orig_bytes       ...       conn_state  \\\n",
       "0       80.0   tcp    http  1.87149        151       ...               SF   \n",
       "1       80.0   tcp    http  2.37637        148       ...               SF   \n",
       "2       80.0   tcp       -  3.09254          0       ...               S0   \n",
       "3       80.0   tcp    http  1.35978        148       ...               SF   \n",
       "4       80.0   tcp    http  1.95281        151       ...               SF   \n",
       "\n",
       "  local_orig local_resp missed_bytes     history orig_pkts  orig_ip_bytes  \\\n",
       "0          -          -          0.0  ShADadttfF     282.0        15702.0   \n",
       "1          -          -          0.0  ShADadttfF     174.0         9600.0   \n",
       "2          -          -          0.0           S       6.0          360.0   \n",
       "3          -          -          0.0  ShADadttfF     178.0         9840.0   \n",
       "4          -          -          0.0  ShADadtftF     220.0        11878.0   \n",
       "\n",
       "   resp_pkts  resp_ip_bytes  tunnel_parents  \n",
       "0      282.0       412612.0               -  \n",
       "1      201.0       291562.0               -  \n",
       "2        0.0            0.0               -  \n",
       "3      196.0       284806.0               -  \n",
       "4      296.0       434528.0               -  \n",
       "\n",
       "[5 rows x 21 columns]"
      ]
     },
     "execution_count": 7,
     "metadata": {},
     "output_type": "execute_result"
    }
   ],
   "source": [
    "conn.head()"
   ]
  },
  {
   "cell_type": "code",
   "execution_count": 9,
   "metadata": {},
   "outputs": [
    {
     "data": {
      "text/plain": [
       "192.168.1.193    5408908\n",
       "197.13.3.22           53\n",
       "197.13.3.14           33\n",
       "197.13.3.6            30\n",
       "217.136.48.1          11\n",
       "Name: id.orig_h, dtype: int64"
      ]
     },
     "execution_count": 9,
     "metadata": {},
     "output_type": "execute_result"
    }
   ],
   "source": [
    "conn['id.orig_h'].value_counts().head(5)"
   ]
  },
  {
   "cell_type": "code",
   "execution_count": 10,
   "metadata": {},
   "outputs": [
    {
     "data": {
      "text/plain": [
       "134.209.72.171    1939\n",
       "192.168.1.193     1652\n",
       "46.28.109.26        29\n",
       "37.187.104.44       27\n",
       "5.1.56.123          27\n",
       "Name: id.resp_h, dtype: int64"
      ]
     },
     "execution_count": 10,
     "metadata": {},
     "output_type": "execute_result"
    }
   ],
   "source": [
    "conn['id.resp_h'].value_counts().head(5)"
   ]
  },
  {
   "cell_type": "code",
   "execution_count": 39,
   "metadata": {},
   "outputs": [],
   "source": [
    "conn_ip = conn[\n",
    "    (conn['id.resp_h'] == '134.209.72.171') | (conn['id.orig_h'] == '134.209.72.171')\n",
    "]"
   ]
  },
  {
   "cell_type": "code",
   "execution_count": 18,
   "metadata": {},
   "outputs": [
    {
     "data": {
      "text/plain": [
       "(1939, 21)"
      ]
     },
     "execution_count": 18,
     "metadata": {},
     "output_type": "execute_result"
    }
   ],
   "source": [
    "conn_ip.shape"
   ]
  },
  {
   "cell_type": "code",
   "execution_count": 138,
   "metadata": {},
   "outputs": [],
   "source": [
    "conn_8081_established = conn[\n",
    "    (conn['id.resp_p'] == 8081) & ((conn['conn_state'] == 'SF'))\n",
    "]"
   ]
  },
  {
   "cell_type": "code",
   "execution_count": 139,
   "metadata": {},
   "outputs": [
    {
     "data": {
      "text/plain": [
       "(6, 21)"
      ]
     },
     "execution_count": 139,
     "metadata": {},
     "output_type": "execute_result"
    }
   ],
   "source": [
    "conn_8081_established.shape"
   ]
  },
  {
   "cell_type": "code",
   "execution_count": 140,
   "metadata": {},
   "outputs": [
    {
     "data": {
      "text/html": [
       "<div>\n",
       "<style scoped>\n",
       "    .dataframe tbody tr th:only-of-type {\n",
       "        vertical-align: middle;\n",
       "    }\n",
       "\n",
       "    .dataframe tbody tr th {\n",
       "        vertical-align: top;\n",
       "    }\n",
       "\n",
       "    .dataframe thead th {\n",
       "        text-align: right;\n",
       "    }\n",
       "</style>\n",
       "<table border=\"1\" class=\"dataframe\">\n",
       "  <thead>\n",
       "    <tr style=\"text-align: right;\">\n",
       "      <th></th>\n",
       "      <th>ts</th>\n",
       "      <th>uid</th>\n",
       "      <th>id.orig_h</th>\n",
       "      <th>id.orig_p</th>\n",
       "      <th>id.resp_h</th>\n",
       "      <th>id.resp_p</th>\n",
       "      <th>proto</th>\n",
       "      <th>service</th>\n",
       "      <th>duration</th>\n",
       "      <th>orig_bytes</th>\n",
       "      <th>...</th>\n",
       "      <th>conn_state</th>\n",
       "      <th>local_orig</th>\n",
       "      <th>local_resp</th>\n",
       "      <th>missed_bytes</th>\n",
       "      <th>history</th>\n",
       "      <th>orig_pkts</th>\n",
       "      <th>orig_ip_bytes</th>\n",
       "      <th>resp_pkts</th>\n",
       "      <th>resp_ip_bytes</th>\n",
       "      <th>tunnel_parents</th>\n",
       "    </tr>\n",
       "  </thead>\n",
       "  <tbody>\n",
       "    <tr>\n",
       "      <th>567042</th>\n",
       "      <td>1.55139e+09</td>\n",
       "      <td>CEJEXfqPxKCAB6Dka</td>\n",
       "      <td>192.168.1.193</td>\n",
       "      <td>41870.0</td>\n",
       "      <td>197.99.105.108</td>\n",
       "      <td>8081.0</td>\n",
       "      <td>tcp</td>\n",
       "      <td>http</td>\n",
       "      <td>3.6377</td>\n",
       "      <td>749</td>\n",
       "      <td>...</td>\n",
       "      <td>SF</td>\n",
       "      <td>-</td>\n",
       "      <td>-</td>\n",
       "      <td>0.0</td>\n",
       "      <td>ShADFadfR</td>\n",
       "      <td>16.0</td>\n",
       "      <td>2330.0</td>\n",
       "      <td>10.0</td>\n",
       "      <td>1458.0</td>\n",
       "      <td>-</td>\n",
       "    </tr>\n",
       "    <tr>\n",
       "      <th>567043</th>\n",
       "      <td>1.55139e+09</td>\n",
       "      <td>CKeVI5XYd8JMsoPf8</td>\n",
       "      <td>192.168.1.193</td>\n",
       "      <td>41872.0</td>\n",
       "      <td>197.99.105.108</td>\n",
       "      <td>8081.0</td>\n",
       "      <td>tcp</td>\n",
       "      <td>-</td>\n",
       "      <td>0.478229</td>\n",
       "      <td>0</td>\n",
       "      <td>...</td>\n",
       "      <td>SF</td>\n",
       "      <td>-</td>\n",
       "      <td>-</td>\n",
       "      <td>0.0</td>\n",
       "      <td>ShAFf</td>\n",
       "      <td>8.0</td>\n",
       "      <td>432.0</td>\n",
       "      <td>4.0</td>\n",
       "      <td>224.0</td>\n",
       "      <td>-</td>\n",
       "    </tr>\n",
       "    <tr>\n",
       "      <th>587495</th>\n",
       "      <td>1.55139e+09</td>\n",
       "      <td>CFIaB849hqqd7FecBa</td>\n",
       "      <td>192.168.1.193</td>\n",
       "      <td>60698.0</td>\n",
       "      <td>197.184.75.218</td>\n",
       "      <td>8081.0</td>\n",
       "      <td>tcp</td>\n",
       "      <td>http</td>\n",
       "      <td>3.62694</td>\n",
       "      <td>749</td>\n",
       "      <td>...</td>\n",
       "      <td>SF</td>\n",
       "      <td>-</td>\n",
       "      <td>-</td>\n",
       "      <td>0.0</td>\n",
       "      <td>ShADFafRdt</td>\n",
       "      <td>16.0</td>\n",
       "      <td>2330.0</td>\n",
       "      <td>10.0</td>\n",
       "      <td>1458.0</td>\n",
       "      <td>-</td>\n",
       "    </tr>\n",
       "    <tr>\n",
       "      <th>2116249</th>\n",
       "      <td>1.55139e+09</td>\n",
       "      <td>C9nvA44j6Iyxhm62y8</td>\n",
       "      <td>192.168.1.193</td>\n",
       "      <td>40040.0</td>\n",
       "      <td>197.99.11.39</td>\n",
       "      <td>8081.0</td>\n",
       "      <td>tcp</td>\n",
       "      <td>http</td>\n",
       "      <td>3.65718</td>\n",
       "      <td>749</td>\n",
       "      <td>...</td>\n",
       "      <td>SF</td>\n",
       "      <td>-</td>\n",
       "      <td>-</td>\n",
       "      <td>0.0</td>\n",
       "      <td>ShADFafdtR</td>\n",
       "      <td>16.0</td>\n",
       "      <td>2330.0</td>\n",
       "      <td>10.0</td>\n",
       "      <td>1458.0</td>\n",
       "      <td>-</td>\n",
       "    </tr>\n",
       "    <tr>\n",
       "      <th>2397810</th>\n",
       "      <td>1.5514e+09</td>\n",
       "      <td>CJGNeY2BKbMh58WBt7</td>\n",
       "      <td>192.168.1.193</td>\n",
       "      <td>56748.0</td>\n",
       "      <td>197.99.126.113</td>\n",
       "      <td>8081.0</td>\n",
       "      <td>tcp</td>\n",
       "      <td>http</td>\n",
       "      <td>5.06988</td>\n",
       "      <td>749</td>\n",
       "      <td>...</td>\n",
       "      <td>SF</td>\n",
       "      <td>-</td>\n",
       "      <td>-</td>\n",
       "      <td>0.0</td>\n",
       "      <td>ShADFaTfdtR</td>\n",
       "      <td>20.0</td>\n",
       "      <td>4036.0</td>\n",
       "      <td>10.0</td>\n",
       "      <td>1458.0</td>\n",
       "      <td>-</td>\n",
       "    </tr>\n",
       "    <tr>\n",
       "      <th>4689112</th>\n",
       "      <td>1.55141e+09</td>\n",
       "      <td>CNDS173NyHcJFSLJA8</td>\n",
       "      <td>192.168.1.193</td>\n",
       "      <td>37930.0</td>\n",
       "      <td>217.230.104.10</td>\n",
       "      <td>8081.0</td>\n",
       "      <td>tcp</td>\n",
       "      <td>http</td>\n",
       "      <td>3.17095</td>\n",
       "      <td>749</td>\n",
       "      <td>...</td>\n",
       "      <td>SF</td>\n",
       "      <td>-</td>\n",
       "      <td>-</td>\n",
       "      <td>0.0</td>\n",
       "      <td>ShADFadfRR</td>\n",
       "      <td>16.0</td>\n",
       "      <td>2330.0</td>\n",
       "      <td>8.0</td>\n",
       "      <td>816.0</td>\n",
       "      <td>-</td>\n",
       "    </tr>\n",
       "  </tbody>\n",
       "</table>\n",
       "<p>6 rows × 21 columns</p>\n",
       "</div>"
      ],
      "text/plain": [
       "                  ts                 uid      id.orig_h  id.orig_p  \\\n",
       "567042   1.55139e+09   CEJEXfqPxKCAB6Dka  192.168.1.193    41870.0   \n",
       "567043   1.55139e+09   CKeVI5XYd8JMsoPf8  192.168.1.193    41872.0   \n",
       "587495   1.55139e+09  CFIaB849hqqd7FecBa  192.168.1.193    60698.0   \n",
       "2116249  1.55139e+09  C9nvA44j6Iyxhm62y8  192.168.1.193    40040.0   \n",
       "2397810   1.5514e+09  CJGNeY2BKbMh58WBt7  192.168.1.193    56748.0   \n",
       "4689112  1.55141e+09  CNDS173NyHcJFSLJA8  192.168.1.193    37930.0   \n",
       "\n",
       "              id.resp_h  id.resp_p proto service  duration orig_bytes  \\\n",
       "567042   197.99.105.108     8081.0   tcp    http    3.6377        749   \n",
       "567043   197.99.105.108     8081.0   tcp       -  0.478229          0   \n",
       "587495   197.184.75.218     8081.0   tcp    http   3.62694        749   \n",
       "2116249    197.99.11.39     8081.0   tcp    http   3.65718        749   \n",
       "2397810  197.99.126.113     8081.0   tcp    http   5.06988        749   \n",
       "4689112  217.230.104.10     8081.0   tcp    http   3.17095        749   \n",
       "\n",
       "              ...       conn_state local_orig local_resp missed_bytes  \\\n",
       "567042        ...               SF          -          -          0.0   \n",
       "567043        ...               SF          -          -          0.0   \n",
       "587495        ...               SF          -          -          0.0   \n",
       "2116249       ...               SF          -          -          0.0   \n",
       "2397810       ...               SF          -          -          0.0   \n",
       "4689112       ...               SF          -          -          0.0   \n",
       "\n",
       "             history orig_pkts  orig_ip_bytes  resp_pkts  resp_ip_bytes  \\\n",
       "567042     ShADFadfR      16.0         2330.0       10.0         1458.0   \n",
       "567043         ShAFf       8.0          432.0        4.0          224.0   \n",
       "587495    ShADFafRdt      16.0         2330.0       10.0         1458.0   \n",
       "2116249   ShADFafdtR      16.0         2330.0       10.0         1458.0   \n",
       "2397810  ShADFaTfdtR      20.0         4036.0       10.0         1458.0   \n",
       "4689112   ShADFadfRR      16.0         2330.0        8.0          816.0   \n",
       "\n",
       "         tunnel_parents  \n",
       "567042                -  \n",
       "567043                -  \n",
       "587495                -  \n",
       "2116249               -  \n",
       "2397810               -  \n",
       "4689112               -  \n",
       "\n",
       "[6 rows x 21 columns]"
      ]
     },
     "execution_count": 140,
     "metadata": {},
     "output_type": "execute_result"
    }
   ],
   "source": [
    "conn_8081_established"
   ]
  },
  {
   "cell_type": "code",
   "execution_count": 142,
   "metadata": {},
   "outputs": [
    {
     "data": {
      "text/plain": [
       "array(['197.99.105.108', '197.184.75.218', '197.99.11.39',\n",
       "       '197.99.126.113', '217.230.104.10'], dtype=object)"
      ]
     },
     "execution_count": 142,
     "metadata": {},
     "output_type": "execute_result"
    }
   ],
   "source": [
    "conn_8081_established['id.resp_h'].unique()"
   ]
  },
  {
   "cell_type": "code",
   "execution_count": 144,
   "metadata": {},
   "outputs": [
    {
     "data": {
      "text/plain": [
       "567042     1.55139e+09\n",
       "567043     1.55139e+09\n",
       "587495     1.55139e+09\n",
       "2116249    1.55139e+09\n",
       "2397810     1.5514e+09\n",
       "4689112    1.55141e+09\n",
       "Name: ts, dtype: object"
      ]
     },
     "execution_count": 144,
     "metadata": {},
     "output_type": "execute_result"
    }
   ],
   "source": [
    "conn_8081_established.ts"
   ]
  },
  {
   "cell_type": "code",
   "execution_count": 145,
   "metadata": {},
   "outputs": [],
   "source": [
    "time_index_8081 = pd.to_datetime(conn_8081_established.ts, unit='s')"
   ]
  },
  {
   "cell_type": "code",
   "execution_count": 146,
   "metadata": {},
   "outputs": [
    {
     "data": {
      "text/plain": [
       "567042    2019-02-28 20:36:44.151896000\n",
       "567043    2019-02-28 20:36:47.540473938\n",
       "587495    2019-02-28 20:38:24.577890158\n",
       "2116249   2019-02-28 22:42:39.989548922\n",
       "2397810   2019-02-28 23:05:28.813935995\n",
       "4689112   2019-03-01 02:11:37.257864951\n",
       "Name: ts, dtype: datetime64[ns]"
      ]
     },
     "execution_count": 146,
     "metadata": {},
     "output_type": "execute_result"
    }
   ],
   "source": [
    "time_index_8081"
   ]
  },
  {
   "cell_type": "code",
   "execution_count": 24,
   "metadata": {},
   "outputs": [],
   "source": [
    "conn_ip.index = conn_ip['ts']"
   ]
  },
  {
   "cell_type": "code",
   "execution_count": 25,
   "metadata": {},
   "outputs": [
    {
     "data": {
      "text/html": [
       "<div>\n",
       "<style scoped>\n",
       "    .dataframe tbody tr th:only-of-type {\n",
       "        vertical-align: middle;\n",
       "    }\n",
       "\n",
       "    .dataframe tbody tr th {\n",
       "        vertical-align: top;\n",
       "    }\n",
       "\n",
       "    .dataframe thead th {\n",
       "        text-align: right;\n",
       "    }\n",
       "</style>\n",
       "<table border=\"1\" class=\"dataframe\">\n",
       "  <thead>\n",
       "    <tr style=\"text-align: right;\">\n",
       "      <th></th>\n",
       "      <th>ts</th>\n",
       "      <th>uid</th>\n",
       "      <th>id.orig_h</th>\n",
       "      <th>id.orig_p</th>\n",
       "      <th>id.resp_h</th>\n",
       "      <th>id.resp_p</th>\n",
       "      <th>proto</th>\n",
       "      <th>service</th>\n",
       "      <th>duration</th>\n",
       "      <th>orig_bytes</th>\n",
       "      <th>...</th>\n",
       "      <th>conn_state</th>\n",
       "      <th>local_orig</th>\n",
       "      <th>local_resp</th>\n",
       "      <th>missed_bytes</th>\n",
       "      <th>history</th>\n",
       "      <th>orig_pkts</th>\n",
       "      <th>orig_ip_bytes</th>\n",
       "      <th>resp_pkts</th>\n",
       "      <th>resp_ip_bytes</th>\n",
       "      <th>tunnel_parents</th>\n",
       "    </tr>\n",
       "    <tr>\n",
       "      <th>ts</th>\n",
       "      <th></th>\n",
       "      <th></th>\n",
       "      <th></th>\n",
       "      <th></th>\n",
       "      <th></th>\n",
       "      <th></th>\n",
       "      <th></th>\n",
       "      <th></th>\n",
       "      <th></th>\n",
       "      <th></th>\n",
       "      <th></th>\n",
       "      <th></th>\n",
       "      <th></th>\n",
       "      <th></th>\n",
       "      <th></th>\n",
       "      <th></th>\n",
       "      <th></th>\n",
       "      <th></th>\n",
       "      <th></th>\n",
       "      <th></th>\n",
       "      <th></th>\n",
       "    </tr>\n",
       "  </thead>\n",
       "  <tbody>\n",
       "    <tr>\n",
       "      <th>1.551383e+09</th>\n",
       "      <td>1.55138e+09</td>\n",
       "      <td>C5t6Kp1UnQyH7JCC45</td>\n",
       "      <td>192.168.1.193</td>\n",
       "      <td>51360.0</td>\n",
       "      <td>134.209.72.171</td>\n",
       "      <td>80.0</td>\n",
       "      <td>tcp</td>\n",
       "      <td>http</td>\n",
       "      <td>1.87149</td>\n",
       "      <td>151</td>\n",
       "      <td>...</td>\n",
       "      <td>SF</td>\n",
       "      <td>-</td>\n",
       "      <td>-</td>\n",
       "      <td>0.0</td>\n",
       "      <td>ShADadttfF</td>\n",
       "      <td>282.0</td>\n",
       "      <td>15702.0</td>\n",
       "      <td>282.0</td>\n",
       "      <td>412612.0</td>\n",
       "      <td>-</td>\n",
       "    </tr>\n",
       "    <tr>\n",
       "      <th>1.551383e+09</th>\n",
       "      <td>1.55138e+09</td>\n",
       "      <td>CRdXqi4p3HG1obs6xl</td>\n",
       "      <td>192.168.1.193</td>\n",
       "      <td>51362.0</td>\n",
       "      <td>134.209.72.171</td>\n",
       "      <td>80.0</td>\n",
       "      <td>tcp</td>\n",
       "      <td>http</td>\n",
       "      <td>2.37637</td>\n",
       "      <td>148</td>\n",
       "      <td>...</td>\n",
       "      <td>SF</td>\n",
       "      <td>-</td>\n",
       "      <td>-</td>\n",
       "      <td>0.0</td>\n",
       "      <td>ShADadttfF</td>\n",
       "      <td>174.0</td>\n",
       "      <td>9600.0</td>\n",
       "      <td>201.0</td>\n",
       "      <td>291562.0</td>\n",
       "      <td>-</td>\n",
       "    </tr>\n",
       "    <tr>\n",
       "      <th>1.551383e+09</th>\n",
       "      <td>1.55138e+09</td>\n",
       "      <td>Co7Sfi3KfjPoJwW5Kf</td>\n",
       "      <td>192.168.1.193</td>\n",
       "      <td>51364.0</td>\n",
       "      <td>134.209.72.171</td>\n",
       "      <td>80.0</td>\n",
       "      <td>tcp</td>\n",
       "      <td>-</td>\n",
       "      <td>3.09254</td>\n",
       "      <td>0</td>\n",
       "      <td>...</td>\n",
       "      <td>S0</td>\n",
       "      <td>-</td>\n",
       "      <td>-</td>\n",
       "      <td>0.0</td>\n",
       "      <td>S</td>\n",
       "      <td>6.0</td>\n",
       "      <td>360.0</td>\n",
       "      <td>0.0</td>\n",
       "      <td>0.0</td>\n",
       "      <td>-</td>\n",
       "    </tr>\n",
       "    <tr>\n",
       "      <th>1.551383e+09</th>\n",
       "      <td>1.55138e+09</td>\n",
       "      <td>CKaKqD34bwvqLUcID9</td>\n",
       "      <td>192.168.1.193</td>\n",
       "      <td>51364.0</td>\n",
       "      <td>134.209.72.171</td>\n",
       "      <td>80.0</td>\n",
       "      <td>tcp</td>\n",
       "      <td>http</td>\n",
       "      <td>1.35978</td>\n",
       "      <td>148</td>\n",
       "      <td>...</td>\n",
       "      <td>SF</td>\n",
       "      <td>-</td>\n",
       "      <td>-</td>\n",
       "      <td>0.0</td>\n",
       "      <td>ShADadttfF</td>\n",
       "      <td>178.0</td>\n",
       "      <td>9840.0</td>\n",
       "      <td>196.0</td>\n",
       "      <td>284806.0</td>\n",
       "      <td>-</td>\n",
       "    </tr>\n",
       "    <tr>\n",
       "      <th>1.551383e+09</th>\n",
       "      <td>1.55138e+09</td>\n",
       "      <td>CFk7Y1SrQmKfgTlp2</td>\n",
       "      <td>192.168.1.193</td>\n",
       "      <td>51366.0</td>\n",
       "      <td>134.209.72.171</td>\n",
       "      <td>80.0</td>\n",
       "      <td>tcp</td>\n",
       "      <td>http</td>\n",
       "      <td>1.95281</td>\n",
       "      <td>151</td>\n",
       "      <td>...</td>\n",
       "      <td>SF</td>\n",
       "      <td>-</td>\n",
       "      <td>-</td>\n",
       "      <td>0.0</td>\n",
       "      <td>ShADadtftF</td>\n",
       "      <td>220.0</td>\n",
       "      <td>11878.0</td>\n",
       "      <td>296.0</td>\n",
       "      <td>434528.0</td>\n",
       "      <td>-</td>\n",
       "    </tr>\n",
       "  </tbody>\n",
       "</table>\n",
       "<p>5 rows × 21 columns</p>\n",
       "</div>"
      ],
      "text/plain": [
       "                       ts                 uid      id.orig_h  id.orig_p  \\\n",
       "ts                                                                        \n",
       "1.551383e+09  1.55138e+09  C5t6Kp1UnQyH7JCC45  192.168.1.193    51360.0   \n",
       "1.551383e+09  1.55138e+09  CRdXqi4p3HG1obs6xl  192.168.1.193    51362.0   \n",
       "1.551383e+09  1.55138e+09  Co7Sfi3KfjPoJwW5Kf  192.168.1.193    51364.0   \n",
       "1.551383e+09  1.55138e+09  CKaKqD34bwvqLUcID9  192.168.1.193    51364.0   \n",
       "1.551383e+09  1.55138e+09   CFk7Y1SrQmKfgTlp2  192.168.1.193    51366.0   \n",
       "\n",
       "                   id.resp_h  id.resp_p proto service duration orig_bytes  \\\n",
       "ts                                                                          \n",
       "1.551383e+09  134.209.72.171       80.0   tcp    http  1.87149        151   \n",
       "1.551383e+09  134.209.72.171       80.0   tcp    http  2.37637        148   \n",
       "1.551383e+09  134.209.72.171       80.0   tcp       -  3.09254          0   \n",
       "1.551383e+09  134.209.72.171       80.0   tcp    http  1.35978        148   \n",
       "1.551383e+09  134.209.72.171       80.0   tcp    http  1.95281        151   \n",
       "\n",
       "                   ...       conn_state local_orig local_resp missed_bytes  \\\n",
       "ts                 ...                                                       \n",
       "1.551383e+09       ...               SF          -          -          0.0   \n",
       "1.551383e+09       ...               SF          -          -          0.0   \n",
       "1.551383e+09       ...               S0          -          -          0.0   \n",
       "1.551383e+09       ...               SF          -          -          0.0   \n",
       "1.551383e+09       ...               SF          -          -          0.0   \n",
       "\n",
       "                 history orig_pkts  orig_ip_bytes  resp_pkts  resp_ip_bytes  \\\n",
       "ts                                                                            \n",
       "1.551383e+09  ShADadttfF     282.0        15702.0      282.0       412612.0   \n",
       "1.551383e+09  ShADadttfF     174.0         9600.0      201.0       291562.0   \n",
       "1.551383e+09           S       6.0          360.0        0.0            0.0   \n",
       "1.551383e+09  ShADadttfF     178.0         9840.0      196.0       284806.0   \n",
       "1.551383e+09  ShADadtftF     220.0        11878.0      296.0       434528.0   \n",
       "\n",
       "              tunnel_parents  \n",
       "ts                            \n",
       "1.551383e+09               -  \n",
       "1.551383e+09               -  \n",
       "1.551383e+09               -  \n",
       "1.551383e+09               -  \n",
       "1.551383e+09               -  \n",
       "\n",
       "[5 rows x 21 columns]"
      ]
     },
     "execution_count": 25,
     "metadata": {},
     "output_type": "execute_result"
    }
   ],
   "source": [
    "conn_ip.head()"
   ]
  },
  {
   "cell_type": "code",
   "execution_count": 27,
   "metadata": {},
   "outputs": [
    {
     "data": {
      "text/plain": [
       "4554.0    1923\n",
       "80.0        16\n",
       "Name: id.resp_p, dtype: int64"
      ]
     },
     "execution_count": 27,
     "metadata": {},
     "output_type": "execute_result"
    }
   ],
   "source": [
    "conn_ip['id.resp_p'].value_counts()"
   ]
  },
  {
   "cell_type": "code",
   "execution_count": 32,
   "metadata": {},
   "outputs": [],
   "source": [
    "conn_ip_4554 = conn_ip[conn_ip['id.resp_p'] == 4554]"
   ]
  },
  {
   "cell_type": "code",
   "execution_count": 91,
   "metadata": {},
   "outputs": [],
   "source": [
    "time_index = pd.to_datetime(conn_ip_4554.index, unit='s')"
   ]
  },
  {
   "cell_type": "code",
   "execution_count": 92,
   "metadata": {},
   "outputs": [],
   "source": [
    "time_df = pd.DataFrame(\n",
    "    {\n",
    "        'num': [1] * len(time_index), \n",
    "        'orig_bytes': list(conn_ip_4554['orig_ip_bytes']),\n",
    "        'resp_bytes': list(conn_ip_4554['resp_ip_bytes'])\n",
    "    }, \n",
    "    index=time_index)"
   ]
  },
  {
   "cell_type": "code",
   "execution_count": 93,
   "metadata": {},
   "outputs": [
    {
     "data": {
      "text/plain": [
       "(Timestamp('2019-02-28 19:50:48.195210934'),\n",
       " Timestamp('2019-03-01 03:10:07.222966909'))"
      ]
     },
     "execution_count": 93,
     "metadata": {},
     "output_type": "execute_result"
    }
   ],
   "source": [
    "min(time_df.index), max(time_df.index)\n"
   ]
  },
  {
   "cell_type": "code",
   "execution_count": 94,
   "metadata": {},
   "outputs": [
    {
     "data": {
      "text/html": [
       "<div>\n",
       "<style scoped>\n",
       "    .dataframe tbody tr th:only-of-type {\n",
       "        vertical-align: middle;\n",
       "    }\n",
       "\n",
       "    .dataframe tbody tr th {\n",
       "        vertical-align: top;\n",
       "    }\n",
       "\n",
       "    .dataframe thead th {\n",
       "        text-align: right;\n",
       "    }\n",
       "</style>\n",
       "<table border=\"1\" class=\"dataframe\">\n",
       "  <thead>\n",
       "    <tr style=\"text-align: right;\">\n",
       "      <th></th>\n",
       "      <th>num</th>\n",
       "      <th>orig_bytes</th>\n",
       "      <th>resp_bytes</th>\n",
       "    </tr>\n",
       "    <tr>\n",
       "      <th>ts</th>\n",
       "      <th></th>\n",
       "      <th></th>\n",
       "      <th></th>\n",
       "    </tr>\n",
       "  </thead>\n",
       "  <tbody>\n",
       "    <tr>\n",
       "      <th>2019-02-28 19:50:48.195210934</th>\n",
       "      <td>1</td>\n",
       "      <td>360.0</td>\n",
       "      <td>0.0</td>\n",
       "    </tr>\n",
       "    <tr>\n",
       "      <th>2019-02-28 19:50:55.380089045</th>\n",
       "      <td>1</td>\n",
       "      <td>120.0</td>\n",
       "      <td>0.0</td>\n",
       "    </tr>\n",
       "    <tr>\n",
       "      <th>2019-02-28 19:51:03.940171003</th>\n",
       "      <td>1</td>\n",
       "      <td>120.0</td>\n",
       "      <td>0.0</td>\n",
       "    </tr>\n",
       "    <tr>\n",
       "      <th>2019-02-28 19:51:20.579873085</th>\n",
       "      <td>1</td>\n",
       "      <td>120.0</td>\n",
       "      <td>0.0</td>\n",
       "    </tr>\n",
       "    <tr>\n",
       "      <th>2019-02-28 19:51:38.226760864</th>\n",
       "      <td>1</td>\n",
       "      <td>678.0</td>\n",
       "      <td>510.0</td>\n",
       "    </tr>\n",
       "  </tbody>\n",
       "</table>\n",
       "</div>"
      ],
      "text/plain": [
       "                               num  orig_bytes  resp_bytes\n",
       "ts                                                        \n",
       "2019-02-28 19:50:48.195210934    1       360.0         0.0\n",
       "2019-02-28 19:50:55.380089045    1       120.0         0.0\n",
       "2019-02-28 19:51:03.940171003    1       120.0         0.0\n",
       "2019-02-28 19:51:20.579873085    1       120.0         0.0\n",
       "2019-02-28 19:51:38.226760864    1       678.0       510.0"
      ]
     },
     "execution_count": 94,
     "metadata": {},
     "output_type": "execute_result"
    }
   ],
   "source": [
    "time_df.head()"
   ]
  },
  {
   "cell_type": "code",
   "execution_count": 95,
   "metadata": {},
   "outputs": [],
   "source": [
    "def get_sample_group_by_s(time_df, num_s=5, num_sample=5000, func=sum):\n",
    "    pd_offset_freq = f\"{num_s}S\"\n",
    "    group_df = time_df.groupby(pd.TimeGrouper(pd_offset_freq))\n",
    "    \n",
    "    freq_feature = group_df['num'].apply(func)\n",
    "    orig_bytes_feature = group_df['orig_bytes'].apply(func)\n",
    "    resp_bytes_feature = group_df['resp_bytes'].apply(func)\n",
    "    \n",
    "    result = pd.concat([freq_feature, orig_bytes_feature, resp_bytes_feature], axis=1)\n",
    "    if num_sample:\n",
    "        result_sample = result.sample(num_sample).sort_index()\n",
    "    else:\n",
    "        result_sample = result.sort_index()\n",
    "    return result_sample"
   ]
  },
  {
   "cell_type": "code",
   "execution_count": 96,
   "metadata": {},
   "outputs": [
    {
     "name": "stderr",
     "output_type": "stream",
     "text": [
      "/Users/alperovich/miniconda3/envs/anomaly_detection/lib/python3.6/site-packages/ipykernel_launcher.py:3: FutureWarning: pd.TimeGrouper is deprecated and will be removed; Please use pd.Grouper(freq=...)\n",
      "  This is separate from the ipykernel package so we can avoid doing imports until\n"
     ]
    }
   ],
   "source": [
    "result = get_sample_group_by_s(time_df, num_s=1, num_sample=None, func=sum)"
   ]
  },
  {
   "cell_type": "code",
   "execution_count": 97,
   "metadata": {},
   "outputs": [
    {
     "data": {
      "text/html": [
       "<div>\n",
       "<style scoped>\n",
       "    .dataframe tbody tr th:only-of-type {\n",
       "        vertical-align: middle;\n",
       "    }\n",
       "\n",
       "    .dataframe tbody tr th {\n",
       "        vertical-align: top;\n",
       "    }\n",
       "\n",
       "    .dataframe thead th {\n",
       "        text-align: right;\n",
       "    }\n",
       "</style>\n",
       "<table border=\"1\" class=\"dataframe\">\n",
       "  <thead>\n",
       "    <tr style=\"text-align: right;\">\n",
       "      <th></th>\n",
       "      <th>num</th>\n",
       "      <th>orig_bytes</th>\n",
       "      <th>resp_bytes</th>\n",
       "    </tr>\n",
       "    <tr>\n",
       "      <th>ts</th>\n",
       "      <th></th>\n",
       "      <th></th>\n",
       "      <th></th>\n",
       "    </tr>\n",
       "  </thead>\n",
       "  <tbody>\n",
       "    <tr>\n",
       "      <th>2019-02-28 19:50:48</th>\n",
       "      <td>1</td>\n",
       "      <td>360.0</td>\n",
       "      <td>0.0</td>\n",
       "    </tr>\n",
       "    <tr>\n",
       "      <th>2019-02-28 19:50:49</th>\n",
       "      <td>0</td>\n",
       "      <td>0.0</td>\n",
       "      <td>0.0</td>\n",
       "    </tr>\n",
       "    <tr>\n",
       "      <th>2019-02-28 19:50:50</th>\n",
       "      <td>0</td>\n",
       "      <td>0.0</td>\n",
       "      <td>0.0</td>\n",
       "    </tr>\n",
       "    <tr>\n",
       "      <th>2019-02-28 19:50:51</th>\n",
       "      <td>1</td>\n",
       "      <td>93758.0</td>\n",
       "      <td>102154.0</td>\n",
       "    </tr>\n",
       "    <tr>\n",
       "      <th>2019-02-28 19:50:52</th>\n",
       "      <td>0</td>\n",
       "      <td>0.0</td>\n",
       "      <td>0.0</td>\n",
       "    </tr>\n",
       "  </tbody>\n",
       "</table>\n",
       "</div>"
      ],
      "text/plain": [
       "                     num  orig_bytes  resp_bytes\n",
       "ts                                              \n",
       "2019-02-28 19:50:48    1       360.0         0.0\n",
       "2019-02-28 19:50:49    0         0.0         0.0\n",
       "2019-02-28 19:50:50    0         0.0         0.0\n",
       "2019-02-28 19:50:51    1     93758.0    102154.0\n",
       "2019-02-28 19:50:52    0         0.0         0.0"
      ]
     },
     "execution_count": 97,
     "metadata": {},
     "output_type": "execute_result"
    }
   ],
   "source": [
    "result.head()"
   ]
  },
  {
   "cell_type": "code",
   "execution_count": 98,
   "metadata": {},
   "outputs": [
    {
     "data": {
      "text/html": [
       "<div>\n",
       "<style scoped>\n",
       "    .dataframe tbody tr th:only-of-type {\n",
       "        vertical-align: middle;\n",
       "    }\n",
       "\n",
       "    .dataframe tbody tr th {\n",
       "        vertical-align: top;\n",
       "    }\n",
       "\n",
       "    .dataframe thead th {\n",
       "        text-align: right;\n",
       "    }\n",
       "</style>\n",
       "<table border=\"1\" class=\"dataframe\">\n",
       "  <thead>\n",
       "    <tr style=\"text-align: right;\">\n",
       "      <th></th>\n",
       "      <th>num</th>\n",
       "      <th>orig_bytes</th>\n",
       "      <th>resp_bytes</th>\n",
       "    </tr>\n",
       "  </thead>\n",
       "  <tbody>\n",
       "    <tr>\n",
       "      <th>count</th>\n",
       "      <td>26360.000000</td>\n",
       "      <td>26360.000000</td>\n",
       "      <td>26360.000000</td>\n",
       "    </tr>\n",
       "    <tr>\n",
       "      <th>mean</th>\n",
       "      <td>0.072951</td>\n",
       "      <td>39.109712</td>\n",
       "      <td>27.683536</td>\n",
       "    </tr>\n",
       "    <tr>\n",
       "      <th>std</th>\n",
       "      <td>0.260062</td>\n",
       "      <td>593.738497</td>\n",
       "      <td>638.212608</td>\n",
       "    </tr>\n",
       "    <tr>\n",
       "      <th>min</th>\n",
       "      <td>0.000000</td>\n",
       "      <td>0.000000</td>\n",
       "      <td>0.000000</td>\n",
       "    </tr>\n",
       "    <tr>\n",
       "      <th>25%</th>\n",
       "      <td>0.000000</td>\n",
       "      <td>0.000000</td>\n",
       "      <td>0.000000</td>\n",
       "    </tr>\n",
       "    <tr>\n",
       "      <th>50%</th>\n",
       "      <td>0.000000</td>\n",
       "      <td>0.000000</td>\n",
       "      <td>0.000000</td>\n",
       "    </tr>\n",
       "    <tr>\n",
       "      <th>75%</th>\n",
       "      <td>0.000000</td>\n",
       "      <td>0.000000</td>\n",
       "      <td>0.000000</td>\n",
       "    </tr>\n",
       "    <tr>\n",
       "      <th>max</th>\n",
       "      <td>1.000000</td>\n",
       "      <td>93758.000000</td>\n",
       "      <td>102154.000000</td>\n",
       "    </tr>\n",
       "  </tbody>\n",
       "</table>\n",
       "</div>"
      ],
      "text/plain": [
       "                num    orig_bytes     resp_bytes\n",
       "count  26360.000000  26360.000000   26360.000000\n",
       "mean       0.072951     39.109712      27.683536\n",
       "std        0.260062    593.738497     638.212608\n",
       "min        0.000000      0.000000       0.000000\n",
       "25%        0.000000      0.000000       0.000000\n",
       "50%        0.000000      0.000000       0.000000\n",
       "75%        0.000000      0.000000       0.000000\n",
       "max        1.000000  93758.000000  102154.000000"
      ]
     },
     "execution_count": 98,
     "metadata": {},
     "output_type": "execute_result"
    }
   ],
   "source": [
    "result.describe()"
   ]
  },
  {
   "cell_type": "code",
   "execution_count": 108,
   "metadata": {},
   "outputs": [],
   "source": [
    "result_log = result[['orig_bytes', 'resp_bytes']].apply(np.log)"
   ]
  },
  {
   "cell_type": "code",
   "execution_count": 113,
   "metadata": {},
   "outputs": [],
   "source": [
    "result_log = result_log.replace(-np.inf, 0)"
   ]
  },
  {
   "cell_type": "code",
   "execution_count": 119,
   "metadata": {},
   "outputs": [
    {
     "data": {
      "text/plain": [
       "<matplotlib.axes._subplots.AxesSubplot at 0x19ee876d8>"
      ]
     },
     "execution_count": 119,
     "metadata": {},
     "output_type": "execute_result"
    },
    {
     "data": {
      "image/png": "[encoded data removed]",
      "text/plain": [
       "<Figure size 432x288 with 1 Axes>"
      ]
     },
     "metadata": {
      "needs_background": "light"
     },
     "output_type": "display_data"
    }
   ],
   "source": [
    "result_log.head(500).plot.line(title='Orig bytes and resp bytes, log scale, only port 4554')"
   ]
  },
  {
   "cell_type": "code",
   "execution_count": 124,
   "metadata": {},
   "outputs": [
    {
     "data": {
      "text/plain": [
       "<matplotlib.axes._subplots.AxesSubplot at 0x19c8967f0>"
      ]
     },
     "execution_count": 124,
     "metadata": {},
     "output_type": "execute_result"
    },
    {
     "data": {
      "image/png": "[encoded data removed]",
      "text/plain": [
       "<Figure size 432x288 with 1 Axes>"
      ]
     },
     "metadata": {
      "needs_background": "light"
     },
     "output_type": "display_data"
    }
   ],
   "source": [
    "result.num.head(100).plot.line(title='Periodic communication with C&C')"
   ]
  },
  {
   "cell_type": "code",
   "execution_count": 175,
   "metadata": {},
   "outputs": [
    {
     "data": {
      "text/plain": [
       "<matplotlib.axes._subplots.AxesSubplot at 0x1a0e87cf8>"
      ]
     },
     "execution_count": 175,
     "metadata": {},
     "output_type": "execute_result"
    },
    {
     "data": {
      "image/png": "[encoded data removed]",
      "text/plain": [
       "<Figure size 432x288 with 1 Axes>"
      ]
     },
     "metadata": {
      "needs_background": "light"
     },
     "output_type": "display_data"
    }
   ],
   "source": [
    "time_diff = (\n",
    "    result.num[result.num == 1]\n",
    "        .reset_index()\n",
    "        .ts.diff(1)\n",
    ")\n",
    "\n",
    "time_diff.apply(lambda x: x.seconds).plot.hist(title='Time difference between C&C requests. Two clusters ~8 seconds and ~15 seconds')\n"
   ]
  },
  {
   "cell_type": "code",
   "execution_count": 176,
   "metadata": {},
   "outputs": [
    {
     "data": {
      "text/plain": [
       "1923"
      ]
     },
     "execution_count": 176,
     "metadata": {},
     "output_type": "execute_result"
    }
   ],
   "source": [
    "len(time_diff)"
   ]
  },
  {
   "cell_type": "code",
   "execution_count": null,
   "metadata": {},
   "outputs": [],
   "source": []
  }
 ],
 "metadata": {
  "kernelspec": {
   "display_name": "Python [conda env:anomaly_detection] *",
   "language": "python",
   "name": "conda-env-anomaly_detection-py"
  },
  "language_info": {
   "codemirror_mode": {
    "name": "ipython",
    "version": 3
   },
   "file_extension": ".py",
   "mimetype": "text/x-python",
   "name": "python",
   "nbconvert_exporter": "python",
   "pygments_lexer": "ipython3",
   "version": "3.6.7"
  }
 },
 "nbformat": 4,
 "nbformat_minor": 2
}
